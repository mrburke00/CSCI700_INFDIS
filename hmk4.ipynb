{
 "cells": [
  {
   "cell_type": "code",
   "execution_count": null,
   "id": "480a27f6-beab-4ad6-a2c2-90160dc5dde5",
   "metadata": {},
   "outputs": [],
   "source": [
    "import pandas as pd\n",
    "import numpy as np\n",
    "import matplotlib.pyplot as plt\n",
    "from scipy.stats import expon\n",
    "import scipy.stats as st\n",
    "from sklearn.linear_model import LinearRegression\n",
    "import statsmodels.api as sm\n",
    "import scipy.stats as stats\n",
    "from sklearn.metrics import roc_curve"
   ]
  },
  {
   "cell_type": "code",
   "execution_count": null,
   "id": "40ca17ec-9177-4bb1-a024-ed00eb3bad0a",
   "metadata": {},
   "outputs": [],
   "source": [
    "# Question 1 #\n",
    "df = pd.read_csv('all_weeks.csv')\n",
    "df.columns=['week','cases']\n",
    "print(df.head())"
   ]
  },
  {
   "cell_type": "code",
   "execution_count": null,
   "id": "c63124ce-b3a9-4c02-9cfb-88e0730bb9d2",
   "metadata": {},
   "outputs": [],
   "source": [
    "# 1A # \n",
    "mu = 1/100\n",
    "# draw from expoential for gamma\n",
    "lower, upper = 1, 2\n",
    "mean, sigma = 1.9, 2.0\n",
    "\n",
    "#gamma = 1/expon.rvs(scale=2, size = 1)[0] # could not get this to work well \n",
    "gamma = 1/2\n",
    "#isolate exponential period \n",
    "I = df['cases'].values[2:17]\n",
    "N_t = df['week'].values[2:17]\n",
    "# draw from truncated normal distribution for underestimated cases\n",
    "under_est = stats.truncnorm.rvs(\n",
    "    (lower - mean) / sigma, (upper - mean) / sigma, loc=mean, scale=sigma,size=len(I)) #% https://docs.scipy.org/doc/scipy/reference/generated/scipy.stats.truncnorm.html\n",
    "\n",
    "I = I * under_est\n",
    "\n",
    "I = np.log(I)\n",
    "mod = sm.OLS(I, N_t)\n",
    "res = mod.fit()\n",
    "        \n",
    "# confidence interval for slope distribution        \n",
    "#ci = st.norm.interval(confidence=0.95, loc=np.mean(slopes), scale=st.sem(slopes))\n",
    "ci =  res.conf_int(0.05)[0]\n",
    "print(\"CI for slope: \", ci)\n",
    "# analytical calculation for slope\n",
    "#slope, intercept = np.polyfit(I, N_t, 1)\n",
    "slope = res.params\n",
    "print(\"Calculated slope: \", slope)\n",
    "\n"
   ]
  },
  {
   "cell_type": "code",
   "execution_count": null,
   "id": "4b2fd6fb-de13-4972-90f0-8fa1826bdea5",
   "metadata": {},
   "outputs": [],
   "source": [
    "\n",
    "r_naughts = []\n",
    "r_naughts.append(1+(ci[0]/(gamma + mu)))\n",
    "r_naughts.append(1+(ci[1]/(gamma + mu)))\n",
    "ci = st.norm.interval(confidence=0.95, loc=np.mean(r_naughts), scale=st.sem(r_naughts))\n",
    "#ci = st.norm.interval(confidence=0.95, loc=np.mean(r_naughts), scale=st.sem(r_naughts))\n",
    "print(\"CI for r_o: \", ci)\n",
    "\n",
    "r_n = 1 + (slope/(gamma + mu))\n",
    "print(\"Calculated r_o: \", r_n)\n",
    "\n",
    "# R0 = 1.86\n",
    "\n",
    "fig, ax = plt.subplots()\n",
    "ax.plot(N_t, I, label = 'I', color = 'red', linestyle=\"\",marker=\"o\")\n",
    "#l1 = plt.plot()\n",
    "#plt.ylim(0,1)\n",
    "#plt.xlim(0,100)\n",
    "plt.xlabel('Time')\n",
    "plt.ylabel('log[I]')\n",
    "plt.title('Exponential Phase of Infection')\n",
    "#plt.yscale('log')\n",
    "plt.legend()\n",
    "plt.show()\n"
   ]
  },
  {
   "cell_type": "code",
   "execution_count": null,
   "id": "24b573fb-36b8-438c-a1bc-8385b510c4d0",
   "metadata": {},
   "outputs": [],
   "source": [
    "# 1B # \n",
    "mu = 1/100\n",
    "gamma = 1/2\n",
    "\n",
    "print(\"Calculated seroprevalance: \", (517/1000))\n",
    "\n",
    "ci = [0.517 - (1.96 * np.sqrt((0.517 * (1-0.517))/1000)), 0.517 + (1.96 * np.sqrt((0.517 * (1-0.517))/1000))]\n",
    "print(\"CI for seroprevalance: \", ci) \n",
    "\n",
    "print(\"Calculated R_0: \", 1/(1-(517/1000)))\n",
    "\n",
    "r_naughts = [1/(1-ci[0]), 1/(1-ci[1])] \n",
    "ci = st.norm.interval(confidence=0.95, loc=np.mean(r_naughts), scale=st.sem(r_naughts))\n",
    "print(\"CI for R_0: \", ci) "
   ]
  },
  {
   "cell_type": "code",
   "execution_count": null,
   "id": "1aa4f774-8e0b-43bc-8125-57107e272ecb",
   "metadata": {},
   "outputs": [],
   "source": [
    "# 1C # \n",
    "mu = 1/100\n",
    "gamma = 1/2\n",
    "#how to calculate i_eq, where to use prevalance\n",
    "inf_equil = 7/1000\n",
    "print(\"Calculated I_eq: \", inf_equil)\n",
    "\n",
    "ci = [inf_equil - (1.96 * np.sqrt((inf_equil * (1-inf_equil))/1000)), inf_equil + \\\n",
    "      (1.96 * np.sqrt((inf_equil * (1-inf_equil))/1000))]\n",
    "print(\"CI for seroprevalance: \", ci) \n",
    "\n",
    "\n",
    "print(\"Calculated R_0: \", (1/(1 - inf_equil * ((gamma/mu) + 1))))\n",
    "ci = [(1/(1 - ci[0] * ((gamma/mu) + 1))), (1/(1 - ci[1] * ((gamma/mu) + 1)))] \n",
    "print(\"CI for R_0: \", ci)                          \n",
    "                        \n",
    "    "
   ]
  },
  {
   "cell_type": "code",
   "execution_count": null,
   "id": "c7831b4d-04a5-4b11-8424-b75d625656c6",
   "metadata": {},
   "outputs": [],
   "source": [
    "# Question 2 #\n",
    "se = 0.90\n",
    "sp = 0.98"
   ]
  },
  {
   "cell_type": "code",
   "execution_count": null,
   "id": "4e02e3eb-2777-47bf-aa5d-42ba8da3667f",
   "metadata": {},
   "outputs": [],
   "source": [
    "# 2A # \n",
    "npos = 39\n",
    "N = 100\n",
    "num = (npos/N) - (1 - sp) \n",
    "den = (se + sp -1 )\n",
    "prev = num/den\n",
    "print(\"Calculated prevalance: \", prev)"
   ]
  },
  {
   "cell_type": "code",
   "execution_count": null,
   "id": "530f2018-0382-4224-9d8a-4affe0c757b3",
   "metadata": {},
   "outputs": [],
   "source": [
    "# 2B # \n",
    "ci = [0.420 - (1.96 * np.sqrt((0.420 * (1-0.420))/100)), 0.420+ (1.96 * np.sqrt((0.420 * (1-0.420))/100))]\n",
    "print(\"CI for prevalance: \", ci) \n",
    "#0.324, .517 \n",
    "#Z = 1.96"
   ]
  },
  {
   "cell_type": "code",
   "execution_count": null,
   "id": "eadc3ca2-8ea0-4f60-8e7a-9d59dee58cf8",
   "metadata": {},
   "outputs": [],
   "source": [
    "# 2C # \n",
    "npos = 18\n",
    "N = 50\n",
    "num = (npos/N) - (1 - sp) \n",
    "den = (se + sp -1 )\n",
    "prev = num/den\n",
    "print(\"Calculated prevalance: \", prev)\n",
    "\n",
    "ci = [0.386- (1.96 * np.sqrt((0.386 * (1-0.386))/50)), 0.386+ (1.96 * np.sqrt((0.386 * (1-0.386))/50))]\n",
    "print(\"CI for prevalance: \", ci) "
   ]
  },
  {
   "cell_type": "code",
   "execution_count": null,
   "id": "769a75ce-7594-4159-9cb9-af113b05cbfc",
   "metadata": {},
   "outputs": [],
   "source": [
    "# 2D # \n",
    "npos = 39 + 18\n",
    "N = 100 + 50\n",
    "num = (npos/N) - (1 - sp) \n",
    "den = (se + sp -1 )\n",
    "prev = num/den\n",
    "print(\"Calculated prevalance: \", prev)\n",
    "\n",
    "ci = [0.409 - (1.96 * np.sqrt((0.409 * (1-0.409))/150)), 0.409+ (1.96 * np.sqrt((0.409 * (1-0.409))/1001500))]\n",
    "print(\"CI for prevalance: \", ci) "
   ]
  },
  {
   "cell_type": "code",
   "execution_count": null,
   "id": "ee3b7597-3c9f-4b32-a005-f7d1c4b6da77",
   "metadata": {},
   "outputs": [],
   "source": [
    "# 2E # \n",
    "phi = prev*se + (1-prev)*(1-sp)\n",
    "print(\"Probability test comes back positive: \", phi)\n",
    "p_positive = (se * prev)/(phi)\n",
    "print(\"Probability truly positive given test positive: \", p_positive)"
   ]
  },
  {
   "cell_type": "code",
   "execution_count": null,
   "id": "b6ac635d-111c-4f5f-9cab-32401a51f3cf",
   "metadata": {},
   "outputs": [],
   "source": [
    "# Question 3 #\n",
    "#HW4 Q3 neg.csv: The assay values associated with a set of negative controls.\n",
    "#• HW4 Q3 pos.csv: The assay values associated with a set of positive controls.\n",
    "#• HW4 Q3 data.csv: The assay values associated with your prevalence study in the population.\n",
    "\n",
    "df_neg = pd.read_csv('HW4_Q3_neg.csv')\n",
    "print(df_neg.head())\n",
    "\n",
    "df_pos = pd.read_csv('HW4_Q3_pos.csv')\n",
    "print(df_pos.head())\n",
    "\n",
    "df_data = pd.read_csv('HW4_Q3_data.csv')\n",
    "print(df_data.head())"
   ]
  },
  {
   "cell_type": "code",
   "execution_count": null,
   "id": "fbff5e96-2735-40ee-a8ff-ff1e2bffb560",
   "metadata": {},
   "outputs": [],
   "source": [
    "# 3A # \n",
    "\n",
    "fig,ax = plt.subplots(figsize = (2,4))\n",
    "\n",
    "jitter_pos = np.random.rand(len(df_pos))\n",
    "ax.scatter(jitter_pos,df_pos,alpha=0.25,color='black', label = 'Pos')\n",
    "\n",
    "jitter_neg = np.random.rand(len(df_neg))\n",
    "ax.scatter(-1.5+jitter_neg,df_neg,alpha=0.25,color='red',label = 'Neg')\n",
    "\n",
    "jitter_data = np.random.rand(len(df_data))\n",
    "ax.scatter(1.5+jitter_data,df_data,alpha=0.25,color='b', label = 'Data')\n",
    "\n",
    "#plt.legend(loc = 'upper left')\n",
    "plt.show()"
   ]
  },
  {
   "cell_type": "code",
   "execution_count": null,
   "id": "8a3449a0-03fb-4d6d-a45a-f370159f5673",
   "metadata": {},
   "outputs": [],
   "source": [
    "def J(c):\n",
    "    TP = df_pos[df_pos > c].dropna().values.flatten()\n",
    "    FN = df_pos[df_pos < c].dropna().values.flatten()\n",
    "    FP = df_neg[df_neg > c].dropna().values.flatten()\n",
    "    TN = df_neg[df_neg < c].dropna().values.flatten()\n",
    "    se = len(TP)/(len(TP)+len(FN))\n",
    "    sp = len(TN)/(len(TN)+len(FP))\n",
    "    return se + sp - 1 \n",
    "def se(c):\n",
    "    TP = df_pos[df_pos > c].dropna().values.flatten()\n",
    "    FN = df_pos[df_pos < c].dropna().values.flatten()\n",
    "    se = len(TP)/(len(TP)+len(FN))\n",
    "    return se\n",
    "def sp(c):\n",
    "    FP = df_neg[df_neg > c].dropna().values.flatten()\n",
    "    TN = df_neg[df_neg < c].dropna().values.flatten()\n",
    "    sp = len(TN)/(len(TN)+len(FP))\n",
    "    return sp\n",
    "def raw_prev(c):\n",
    "    pos = df_data[df_data > c].dropna().values.flatten()\n",
    "    neg = df_data[df_data < c].dropna().values.flatten()\n",
    "    return pos/neg\n",
    "def adj_prev(c):\n",
    "    spec = sp(c)\n",
    "    sens = se(c)\n",
    "    npos = len(df_data[df_data > c].dropna().values.flatten())\n",
    "    N = len(df_data.dropna().values.flatten())\n",
    "    return (npos/N - (1 - spec))/(sens + spec - 1)"
   ]
  },
  {
   "cell_type": "code",
   "execution_count": null,
   "id": "7852aa8f-c5de-4542-841a-98262182b592",
   "metadata": {},
   "outputs": [],
   "source": [
    "from operator import itemgetter\n",
    "results = []\n",
    "for i in range(25):\n",
    "    results.append(J(i))\n",
    "max_value = max(results)\n",
    "\n",
    "You_index = results.index(max_value)\n",
    "print(\"Youden Index: \", You_index)"
   ]
  },
  {
   "cell_type": "code",
   "execution_count": null,
   "id": "6ced3b62-824c-4e78-9bb4-e0d65fe23e46",
   "metadata": {},
   "outputs": [],
   "source": [
    "#3c#\n",
    "tpr = []\n",
    "fpr = []\n",
    "for i in range(25):\n",
    "    tpr.append(se(i))\n",
    "    fpr.append(1-sp(i))\n",
    "    plt.plot(fpr, tpr, 'b')\n",
    "plt.plot(fpr[15],tpr[15], marker='o', c='r', label = 'Youden')\n",
    "plt.xlabel('False Positive Rate')\n",
    "plt.ylabel('True Positive Rate')\n",
    "plt.legend()\n",
    "plt.title('ROC')"
   ]
  },
  {
   "cell_type": "code",
   "execution_count": null,
   "id": "de8ea473-153d-41ec-b0bc-9708df5652ad",
   "metadata": {},
   "outputs": [],
   "source": [
    "#3C# \n",
    "theta = []\n",
    "fpr = []\n",
    "for i in range(3,30):\n",
    "    theta.append(adj_prev(i))\n",
    "x = range(len(theta))\n",
    "plt.plot(x, theta, 'b')\n",
    "plt.plot(x[12], theta[12],c='r', marker='o', label = 'Youden')\n",
    "plt.xlabel('Cutoff')\n",
    "plt.ylabel('Corrected Prevalance')\n",
    "plt.legend()"
   ]
  },
  {
   "cell_type": "code",
   "execution_count": null,
   "id": "2cf31910-21fc-4c83-a737-e93a67b1f28c",
   "metadata": {},
   "outputs": [],
   "source": []
  },
  {
   "cell_type": "code",
   "execution_count": null,
   "id": "5e219363-9bde-4c11-a040-a16f2984ff53",
   "metadata": {},
   "outputs": [],
   "source": []
  }
 ],
 "metadata": {
  "kernelspec": {
   "display_name": "Python 3 (ipykernel)",
   "language": "python",
   "name": "python3"
  },
  "language_info": {
   "codemirror_mode": {
    "name": "ipython",
    "version": 3
   },
   "file_extension": ".py",
   "mimetype": "text/x-python",
   "name": "python",
   "nbconvert_exporter": "python",
   "pygments_lexer": "ipython3",
   "version": "3.10.9"
  }
 },
 "nbformat": 4,
 "nbformat_minor": 5
}
