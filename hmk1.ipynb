{
 "cells": [
  {
   "cell_type": "code",
   "execution_count": null,
   "id": "bc655088-40b5-47d0-a1a0-d80d1fac12af",
   "metadata": {},
   "outputs": [],
   "source": [
    "import matplotlib.pyplot as plt\n",
    "import numpy as np\n",
    "from scipy.optimize import fsolve\n",
    "import math "
   ]
  },
  {
   "cell_type": "code",
   "execution_count": null,
   "id": "2e10eaa3-913f-4c51-a727-3e76d2509a98",
   "metadata": {},
   "outputs": [],
   "source": [
    "N=1000\n",
    "i_0 = 1\n",
    "s_0 =  999\n",
    "beta = 1 \n",
    "gamma = 0.5\n",
    "dt = 0.001"
   ]
  },
  {
   "cell_type": "code",
   "execution_count": null,
   "id": "776a2169-253a-4a7a-b6fb-4f8dbf2ece79",
   "metadata": {},
   "outputs": [],
   "source": [
    "\n",
    "beta = 1\n",
    "gamma = 0.5\n",
    "dt = 0.5       \n",
    "days = 100  \n",
    "\n",
    "t = np.arange(days) * dt\n",
    "S = np.zeros(days)\n",
    "I = np.zeros(days)\n",
    "R = np.zeros(days)\n",
    "\n",
    "S[0] = 1. - I[0]\n",
    "I[0] = 0.001\n",
    "R[0] = 0\n",
    "\n",
    "for n in range(days-1):\n",
    "    S[n+1] = S[n] - beta*(S[n]*I[n])*dt\n",
    "    I[n+1] = I[n] + (beta*S[n]*I[n] - gamma*I[n])*dt\n",
    "    R[n+1] = R[n] + (gamma*I[n])*dt\n",
    "S = [x * 1000 for x in S]\n",
    "R = [x * 1000 for x in R]\n",
    "I = [x * 1000 for x in I]\n",
    "fig = plt.figure()\n",
    "l1 = plt.plot(t, S, label = 'S - Devin', color = 'red')\n",
    "l2 = plt.plot(t, I, label = 'I - Devin', color = 'blue')\n",
    "l3 = plt.plot(t, R, label = 'R - Devin', color = 'black')\n",
    "plt.axhline(y=796, color='g', linestyle='--', label='R_inf')\n",
    "\n",
    "#fig.legend((l1, l2, l3), ('S - Devin', 'I - Devin', 'R - Devin'))\n",
    "plt.xlabel('Time')\n",
    "plt.ylabel('People')\n",
    "plt.title('beta = 1, gamma = 0.5')\n",
    "plt.legend()\n",
    "plt.show()\n",
    "        "
   ]
  },
  {
   "cell_type": "code",
   "execution_count": null,
   "id": "2102cd2a-c6bf-4710-b576-c7cf7ab8a902",
   "metadata": {},
   "outputs": [],
   "source": [
    "import numpy as np\n",
    "\n",
    "from scipy.optimize import fsolve\n",
    "def aux(x):\n",
    "    return x - (1-np.e**(-2.0*x))\n",
    "def f(x):\n",
    "    #print(\"+\",1-np.e**(-0.11*x))\n",
    "    #return x - (1-np.e**(-0.9*x))\n",
    "    return 1-np.e**(-2.0*x)\n",
    "   # return \n",
    "x=np.linspace(-2,2, num=100)\n",
    "#y=np.linespcae(-2,2,num=100)\n",
    "#print(x)\n",
    "out = [f(i) for i in x]\n",
    "#print(out)\n",
    "z = fsolve(aux, -1)\n",
    "print(z)\n",
    "\n",
    "#plt.axline((0, 0), slope=1, color ='red')\n",
    "\n",
    "plt.grid()\n",
    "plt.scatter(z[0], f(z[0]), s=125, facecolors='none', edgecolors='blue',label='Intersect @ 0.176')\n",
    "plt.plot(x,f(x),color= 'red', label='g(x)')\n",
    "plt.plot(x,x,color='black', label = 'f(x)')\n",
    "plt.xlim((-1, 1))\n",
    "plt.ylim((-1, 1))\n",
    "plt.title('R_0 = 1.2')\n",
    "plt.legend()\n",
    "#ax.set_ylim([-1, 1])                      \n",
    "#root = fsolve(func, [0.9])\n",
    "\n",
    "#print(root)\n"
   ]
  },
  {
   "cell_type": "code",
   "execution_count": null,
   "id": "e1b352e1-ae72-49dc-9920-a9a6778f0fe0",
   "metadata": {},
   "outputs": [],
   "source": []
  },
  {
   "cell_type": "code",
   "execution_count": null,
   "id": "cb34bfad-6496-44b6-82dd-a15a8d26d3c8",
   "metadata": {},
   "outputs": [],
   "source": []
  },
  {
   "cell_type": "code",
   "execution_count": null,
   "id": "73279a7b-f4e5-44f2-8914-1bca16b9d31f",
   "metadata": {},
   "outputs": [],
   "source": []
  },
  {
   "cell_type": "code",
   "execution_count": null,
   "id": "65251a46-953a-48eb-87b1-f88f3f8be87e",
   "metadata": {},
   "outputs": [],
   "source": []
  }
 ],
 "metadata": {
  "kernelspec": {
   "display_name": "Python 3 (ipykernel)",
   "language": "python",
   "name": "python3"
  },
  "language_info": {
   "codemirror_mode": {
    "name": "ipython",
    "version": 3
   },
   "file_extension": ".py",
   "mimetype": "text/x-python",
   "name": "python",
   "nbconvert_exporter": "python",
   "pygments_lexer": "ipython3",
   "version": "3.8.2"
  }
 },
 "nbformat": 4,
 "nbformat_minor": 5
}
